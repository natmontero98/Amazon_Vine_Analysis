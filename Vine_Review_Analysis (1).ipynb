{
  "nbformat": 4,
  "nbformat_minor": 0,
  "metadata": {
    "colab": {
      "name": "Vine_Review_Analysis.ipynb",
      "provenance": []
    },
    "kernelspec": {
      "name": "python3",
      "display_name": "Python 3"
    },
    "language_info": {
      "name": "python"
    }
  },
  "cells": [
    {
      "cell_type": "code",
      "metadata": {
        "colab": {
          "base_uri": "https://localhost:8080/"
        },
        "id": "T4FJ6KN7deA6",
        "outputId": "cc5b4d83-9546-4724-dec7-88bf8b935215"
      },
      "source": [
        "import os\n",
        "# Find the latest version of spark 3.0 from http://www.apache.org/dist/spark/ and enter as the spark version\n",
        "# For example:\n",
        "spark_version = 'spark-3.0.3'\n",
        "# spark_version = 'spark-3.0.3'\n",
        "os.environ['SPARK_VERSION']=spark_version\n",
        "\n",
        "# Install Spark and Java\n",
        "!apt-get update\n",
        "!apt-get install openjdk-11-jdk-headless -qq > /dev/null\n",
        "!wget -q http://www.apache.org/dist/spark/$SPARK_VERSION/$SPARK_VERSION-bin-hadoop2.7.tgz\n",
        "!tar xf $SPARK_VERSION-bin-hadoop2.7.tgz\n",
        "!pip install -q findspark\n",
        "\n",
        "# Set Environment Variables\n",
        "import os\n",
        "os.environ[\"JAVA_HOME\"] = \"/usr/lib/jvm/java-11-openjdk-amd64\"\n",
        "os.environ[\"SPARK_HOME\"] = f\"/content/{spark_version}-bin-hadoop2.7\"\n",
        "\n",
        "# Start a SparkSession\n",
        "import findspark\n",
        "findspark.init()"
      ],
      "execution_count": 1,
      "outputs": [
        {
          "output_type": "stream",
          "name": "stdout",
          "text": [
            "Get:1 http://security.ubuntu.com/ubuntu bionic-security InRelease [88.7 kB]\n",
            "Ign:2 https://developer.download.nvidia.com/compute/cuda/repos/ubuntu1804/x86_64  InRelease\n",
            "Get:3 https://cloud.r-project.org/bin/linux/ubuntu bionic-cran40/ InRelease [3,626 B]\n",
            "Hit:4 http://ppa.launchpad.net/c2d4u.team/c2d4u4.0+/ubuntu bionic InRelease\n",
            "Hit:5 http://archive.ubuntu.com/ubuntu bionic InRelease\n",
            "Ign:6 https://developer.download.nvidia.com/compute/machine-learning/repos/ubuntu1804/x86_64  InRelease\n",
            "Hit:7 https://developer.download.nvidia.com/compute/cuda/repos/ubuntu1804/x86_64  Release\n",
            "Hit:8 https://developer.download.nvidia.com/compute/machine-learning/repos/ubuntu1804/x86_64  Release\n",
            "Get:9 http://archive.ubuntu.com/ubuntu bionic-updates InRelease [88.7 kB]\n",
            "Hit:10 http://ppa.launchpad.net/cran/libgit2/ubuntu bionic InRelease\n",
            "Hit:11 http://ppa.launchpad.net/deadsnakes/ppa/ubuntu bionic InRelease\n",
            "Get:12 http://security.ubuntu.com/ubuntu bionic-security/universe amd64 Packages [1,431 kB]\n",
            "Get:13 http://archive.ubuntu.com/ubuntu bionic-backports InRelease [74.6 kB]\n",
            "Hit:14 http://ppa.launchpad.net/graphics-drivers/ppa/ubuntu bionic InRelease\n",
            "Get:17 http://archive.ubuntu.com/ubuntu bionic-updates/main amd64 Packages [2,801 kB]\n",
            "Get:18 http://archive.ubuntu.com/ubuntu bionic-updates/universe amd64 Packages [2,210 kB]\n",
            "Fetched 6,698 kB in 4s (1,598 kB/s)\n",
            "Reading package lists... Done\n"
          ]
        }
      ]
    },
    {
      "cell_type": "code",
      "metadata": {
        "id": "igOU1wrgdf0W"
      },
      "source": [
        "# Download the Postgres driver that will allow Spark to interact with Postgres.\n",
        "!wget https://jdbc.postgresql.org/download/postgresql-42.2.16.jar"
      ],
      "execution_count": null,
      "outputs": []
    },
    {
      "cell_type": "code",
      "metadata": {
        "id": "GKIAfpR3dioW"
      },
      "source": [
        "from pyspark.sql import SparkSession\n",
        "spark = SparkSession.builder.appName(\"M16-Amazon-Challenge\").config(\"spark.driver.extraClassPath\",\"/content/postgresql-42.2.16.jar\").getOrCreate()"
      ],
      "execution_count": 2,
      "outputs": []
    },
    {
      "cell_type": "code",
      "metadata": {
        "colab": {
          "base_uri": "https://localhost:8080/"
        },
        "id": "-4F5bQ2gdixB",
        "outputId": "c78a2c74-35b2-4a1e-8e62-18fd76a5ad19"
      },
      "source": [
        "from pyspark import SparkFiles\n",
        "url = \"https://s3.amazonaws.com/amazon-reviews-pds/tsv/amazon_reviews_us_Pet_Products_v1_00.tsv.gz\"\n",
        "spark.sparkContext.addFile(url)\n",
        "df = spark.read.option(\"encoding\", \"UTF-8\").csv(SparkFiles.get(\"amazon_reviews_us_Pet_Products_v1_00.tsv.gz\"), sep=\"\\t\", header=True, inferSchema=True)\n",
        "df.show()"
      ],
      "execution_count": 4,
      "outputs": [
        {
          "output_type": "stream",
          "name": "stdout",
          "text": [
            "+-----------+-----------+--------------+----------+--------------+--------------------+----------------+-----------+-------------+-----------+----+-----------------+--------------------+--------------------+-----------+\n",
            "|marketplace|customer_id|     review_id|product_id|product_parent|       product_title|product_category|star_rating|helpful_votes|total_votes|vine|verified_purchase|     review_headline|         review_body|review_date|\n",
            "+-----------+-----------+--------------+----------+--------------+--------------------+----------------+-----------+-------------+-----------+----+-----------------+--------------------+--------------------+-----------+\n",
            "|         US|   28794885| REAKC26P07MDN|B00Q0K9604|     510387886|(8-Pack) EZwhelp ...|    Pet Products|          5|            0|          0|   N|                Y|A great purchase ...|Best belly bands ...| 2015-08-31|\n",
            "|         US|   11488901|R3NU7OMZ4HQIEG|B00MBW5O9W|     912374672|Warren Eckstein's...|    Pet Products|          2|            0|          1|   N|                Y|My dogs love Hugs...|My dogs love Hugs...| 2015-08-31|\n",
            "|         US|   43214993|R14QJW3XF8QO1P|B0084OHUIO|     902215727|Tyson's True Chew...|    Pet Products|          5|            0|          0|   N|                Y|I have been purch...|I have been purch...| 2015-08-31|\n",
            "|         US|   12835065|R2HB7AX0394ZGY|B001GS71K2|     568880110|Soft Side Pet Cra...|    Pet Products|          5|            0|          0|   N|                Y|it is easy to ope...|It is extremely w...| 2015-08-31|\n",
            "|         US|   26334022| RGKMPDQGSAHR3|B004ABH1LG|     692846826|EliteField 3-Door...|    Pet Products|          5|            0|          0|   N|                Y|           Dog crate|Worked really wel...| 2015-08-31|\n",
            "|         US|   22283621|R1DJCVPQGCV66E|B00AX0LFM4|     590674141|Carlson 68-Inch W...|    Pet Products|          5|            0|          0|   N|                Y|          Five Stars|I love my gates! ...| 2015-08-31|\n",
            "|         US|   14469895|R3V52EAWLPBFQG|B00DQFZGZ0|     688538603|Dog Seat Cover Wi...|    Pet Products|          3|            0|          0|   N|                Y|Seat belt tugs on...|Didn't quite work...| 2015-08-31|\n",
            "|         US|   50896354|R3DKO8J1J28QBI|B00DIRF9US|     742358789|The Bird Catcher ...|    Pet Products|          2|            0|          0|   N|                Y|Great Pole, but S...|I had the origina...| 2015-08-31|\n",
            "|         US|   18440567| R764DBXGRNECG|B00JRCBFUG|     869798483|Cat Bed - Purrfec...|    Pet Products|          5|            1|          1|   N|                N|     My cat loves it|The pad is very s...| 2015-08-31|\n",
            "|         US|   50502362| RW1853GAT0Z9F|B000L3XYZ4|     501118658|PetSafe Drinkwell...|    Pet Products|          5|            0|          0|   N|                Y|          Five Stars|My cat drinks mor...| 2015-08-31|\n",
            "|         US|   33930128|R33GITXNUF1AD4|B00BOEXWFG|     454737777|Contech ZenDog Ca...|    Pet Products|          2|            0|          0|   N|                Y|Also had to pull ...|Much smaller than...| 2015-08-31|\n",
            "|         US|   43534290|R1H7AVM81TAYRV|B001HBBQKY|     420905252|Wellness Crunchy ...|    Pet Products|          1|            2|          2|   N|                Y|DO NOT PURCHASE -...|I used to love th...| 2015-08-31|\n",
            "|         US|   45555864|R2ZOYAQZNNZZWV|B007O1FHB0|     302588963|Rx Vitamins Essen...|    Pet Products|          5|            0|          0|   N|                Y|          Five Stars|Recommended by my...| 2015-08-31|\n",
            "|         US|   11147406|R2FN1H3CGW6J8H|B001P3NU30|     525778264|Virbac C.E.T. Enz...|    Pet Products|          1|            0|          0|   N|                Y|Received wrong pr...|Yes I  ordered fo...| 2015-08-31|\n",
            "|         US|    6495678| RJB41Q575XNG4|B00ZP6HS6S|     414117299|Kitty Shack - 2 i...|    Pet Products|          5|            0|          3|   N|                Y|          Five Stars|      It falls apart| 2015-08-31|\n",
            "|         US|    2019416|R28W8BM1587CPF|B00IP05CUA|     833937853|Wellness Kittles ...|    Pet Products|          5|            0|          0|   N|                Y|kitty is ravenous...|My cat really lov...| 2015-08-31|\n",
            "|         US|   40459386|R1II0M01NIG293|B001U8Y598|      85343577|OmniPet Anti-Ant ...|    Pet Products|          2|            0|          0|   N|                N|Maybe other speci...|This bowl is not ...| 2015-08-31|\n",
            "|         US|   23126800| RMB8N0DBRH34O|B011AY4JWO|     499241195|K9KONNECTION [New...|    Pet Products|          5|            1|          1|   N|                Y|This works, dog n...|I have a small do...| 2015-08-31|\n",
            "|         US|   30238476|R24WB6A6WVIPU6|B00DDSHE5A|     409532388|SUNSEED COMPANY 3...|    Pet Products|          5|            0|          0|   N|                Y|    Yummy for Bunny!|Bunny loves it! E...| 2015-08-31|\n",
            "|         US|   35113999| ROCJSH0P9YSRW|B00PJW5OR8|     259271919|CXB1983(TM)Cute P...|    Pet Products|          5|            0|          0|   N|                Y|excellent price, ...|Petfect,,quality ...| 2015-08-31|\n",
            "+-----------+-----------+--------------+----------+--------------+--------------------+----------------+-----------+-------------+-----------+----+-----------------+--------------------+--------------------+-----------+\n",
            "only showing top 20 rows\n",
            "\n"
          ]
        }
      ]
    },
    {
      "cell_type": "code",
      "metadata": {
        "colab": {
          "base_uri": "https://localhost:8080/"
        },
        "id": "LLqxN8DGdi48",
        "outputId": "bc314fb0-d9f9-45be-8274-272b38cc038f"
      },
      "source": [
        "# Create the vine_table. DataFrame\n",
        "vine_df = df.select([\"review_id\", \"star_rating\", \"helpful_votes\", \"total_votes\", \"vine\", \"verified_purchase\"])\n",
        "vine_df.show()"
      ],
      "execution_count": 5,
      "outputs": [
        {
          "output_type": "stream",
          "name": "stdout",
          "text": [
            "+--------------+-----------+-------------+-----------+----+-----------------+\n",
            "|     review_id|star_rating|helpful_votes|total_votes|vine|verified_purchase|\n",
            "+--------------+-----------+-------------+-----------+----+-----------------+\n",
            "| REAKC26P07MDN|          5|            0|          0|   N|                Y|\n",
            "|R3NU7OMZ4HQIEG|          2|            0|          1|   N|                Y|\n",
            "|R14QJW3XF8QO1P|          5|            0|          0|   N|                Y|\n",
            "|R2HB7AX0394ZGY|          5|            0|          0|   N|                Y|\n",
            "| RGKMPDQGSAHR3|          5|            0|          0|   N|                Y|\n",
            "|R1DJCVPQGCV66E|          5|            0|          0|   N|                Y|\n",
            "|R3V52EAWLPBFQG|          3|            0|          0|   N|                Y|\n",
            "|R3DKO8J1J28QBI|          2|            0|          0|   N|                Y|\n",
            "| R764DBXGRNECG|          5|            1|          1|   N|                N|\n",
            "| RW1853GAT0Z9F|          5|            0|          0|   N|                Y|\n",
            "|R33GITXNUF1AD4|          2|            0|          0|   N|                Y|\n",
            "|R1H7AVM81TAYRV|          1|            2|          2|   N|                Y|\n",
            "|R2ZOYAQZNNZZWV|          5|            0|          0|   N|                Y|\n",
            "|R2FN1H3CGW6J8H|          1|            0|          0|   N|                Y|\n",
            "| RJB41Q575XNG4|          5|            0|          3|   N|                Y|\n",
            "|R28W8BM1587CPF|          5|            0|          0|   N|                Y|\n",
            "|R1II0M01NIG293|          2|            0|          0|   N|                N|\n",
            "| RMB8N0DBRH34O|          5|            1|          1|   N|                Y|\n",
            "|R24WB6A6WVIPU6|          5|            0|          0|   N|                Y|\n",
            "| ROCJSH0P9YSRW|          5|            0|          0|   N|                Y|\n",
            "+--------------+-----------+-------------+-----------+----+-----------------+\n",
            "only showing top 20 rows\n",
            "\n"
          ]
        }
      ]
    },
    {
      "cell_type": "code",
      "metadata": {
        "colab": {
          "base_uri": "https://localhost:8080/"
        },
        "id": "c33kSdvbdtZz",
        "outputId": "e4d25593-03eb-4a4c-f5de-134c34da6152"
      },
      "source": [
        "# Create table where all rows of total_votes count is equal to or greater than 20\n",
        "total_votes_filtered = df.filter(\"total_votes>=20\")\n",
        "total_votes_filtered.show(10)"
      ],
      "execution_count": 6,
      "outputs": [
        {
          "output_type": "stream",
          "name": "stdout",
          "text": [
            "+-----------+-----------+--------------+----------+--------------+--------------------+----------------+-----------+-------------+-----------+----+-----------------+--------------------+--------------------+-----------+\n",
            "|marketplace|customer_id|     review_id|product_id|product_parent|       product_title|product_category|star_rating|helpful_votes|total_votes|vine|verified_purchase|     review_headline|         review_body|review_date|\n",
            "+-----------+-----------+--------------+----------+--------------+--------------------+----------------+-----------+-------------+-----------+----+-----------------+--------------------+--------------------+-----------+\n",
            "|         US|   51227803|R21KC552Y6HL8X|B00E2E1XBK|     180836080|Kennel Deck - 3 Pack|    Pet Products|          1|           27|         31|   N|                Y|The picture is of...|The product add p...| 2015-08-31|\n",
            "|         US|   52747799| RX9WC9FTIR1XR|B00DZITYGU|     598776873|Grey Shark Bed fo...|    Pet Products|          5|           25|         25|   N|                Y|Two seconds flat ...|Once I set it up,...| 2015-08-31|\n",
            "|         US|   23340430| RGDCOU1KBHMNG|B00N9SL8SS|     721942363|Pet Rat Mouse Lea...|    Pet Products|          3|           29|         31|   N|                Y|        OK for Price|Easy enough to pu...| 2015-08-31|\n",
            "|         US|   48234208| RVTYWID2TPMMY|B00EB4IV2A|     140722056|Northmate Catch I...|    Pet Products|          2|           35|         42|   N|                Y|        Intimidating|Love the concept....| 2015-08-31|\n",
            "|         US|    2321625|R2CMPZ5VESGRLY|B00OC7661E|     664108863|4 Pets Large Dog ...|    Pet Products|          4|           27|         28|   N|                Y|Xl fits my 51 pou...|A little big on h...| 2015-08-31|\n",
            "|         US|   48415890|R3VQPJZ54B55BA|B0108LVGZI|     301347908|Medicated Oatmeal...|    Pet Products|          5|           62|         64|   N|                N|My Husky Says \"Th...|[[VIDEOID:2f1bbfc...| 2015-08-31|\n",
            "|         US|   47321827|R24QM6D7FEDZ5M|B00EB4IV2A|     140722056|Northmate Catch I...|    Pet Products|          2|           36|         43|   N|                Y|MINI SIZE IS QUIT...|Have been using t...| 2015-08-31|\n",
            "|         US|   53020738|R3A1VQ3SQDXEJ3|B00OLSARPK|     271494331|TEMPTATIONS SNACK...|    Pet Products|          5|           20|         20|   N|                Y|Fun for Even Less...|[[VIDEOID:4cc2a20...| 2015-08-31|\n",
            "|         US|   41141285|  R39GSNW76GYF|B00YS9HI7C|     821362342|Easyology Premium...|    Pet Products|          1|           20|         23|   N|                Y|Hole within 24 hours|I hate to be one ...| 2015-08-31|\n",
            "|         US|   51455033| RPJLR6MFDPXXE|B00Y841P12|     934091093|Merax Folding Cat...|    Pet Products|          5|           35|         36|   N|                Y|I LOVE THIS STROL...|My dog, Paris, is...| 2015-08-31|\n",
            "+-----------+-----------+--------------+----------+--------------+--------------------+----------------+-----------+-------------+-----------+----+-----------------+--------------------+--------------------+-----------+\n",
            "only showing top 10 rows\n",
            "\n"
          ]
        }
      ]
    },
    {
      "cell_type": "code",
      "metadata": {
        "colab": {
          "base_uri": "https://localhost:8080/"
        },
        "id": "iI0NCVL3L8o1",
        "outputId": "d82529df-3264-4e54-f8ca-b116f737153c"
      },
      "source": [
        "# create a new DataFrame or table to retrieve all the rows where the number of\n",
        "# helpful_votes divided by total_votes is equal to or greater than 50%.\n",
        "\n",
        "helpful_votes = total_votes_filtered.filter(\"helpful_votes/total_votes>=0.5\")\n",
        "helpful_votes.show(10)"
      ],
      "execution_count": 7,
      "outputs": [
        {
          "output_type": "stream",
          "name": "stdout",
          "text": [
            "+-----------+-----------+--------------+----------+--------------+--------------------+----------------+-----------+-------------+-----------+----+-----------------+--------------------+--------------------+-----------+\n",
            "|marketplace|customer_id|     review_id|product_id|product_parent|       product_title|product_category|star_rating|helpful_votes|total_votes|vine|verified_purchase|     review_headline|         review_body|review_date|\n",
            "+-----------+-----------+--------------+----------+--------------+--------------------+----------------+-----------+-------------+-----------+----+-----------------+--------------------+--------------------+-----------+\n",
            "|         US|   51227803|R21KC552Y6HL8X|B00E2E1XBK|     180836080|Kennel Deck - 3 Pack|    Pet Products|          1|           27|         31|   N|                Y|The picture is of...|The product add p...| 2015-08-31|\n",
            "|         US|   52747799| RX9WC9FTIR1XR|B00DZITYGU|     598776873|Grey Shark Bed fo...|    Pet Products|          5|           25|         25|   N|                Y|Two seconds flat ...|Once I set it up,...| 2015-08-31|\n",
            "|         US|   23340430| RGDCOU1KBHMNG|B00N9SL8SS|     721942363|Pet Rat Mouse Lea...|    Pet Products|          3|           29|         31|   N|                Y|        OK for Price|Easy enough to pu...| 2015-08-31|\n",
            "|         US|   48234208| RVTYWID2TPMMY|B00EB4IV2A|     140722056|Northmate Catch I...|    Pet Products|          2|           35|         42|   N|                Y|        Intimidating|Love the concept....| 2015-08-31|\n",
            "|         US|    2321625|R2CMPZ5VESGRLY|B00OC7661E|     664108863|4 Pets Large Dog ...|    Pet Products|          4|           27|         28|   N|                Y|Xl fits my 51 pou...|A little big on h...| 2015-08-31|\n",
            "|         US|   48415890|R3VQPJZ54B55BA|B0108LVGZI|     301347908|Medicated Oatmeal...|    Pet Products|          5|           62|         64|   N|                N|My Husky Says \"Th...|[[VIDEOID:2f1bbfc...| 2015-08-31|\n",
            "|         US|   47321827|R24QM6D7FEDZ5M|B00EB4IV2A|     140722056|Northmate Catch I...|    Pet Products|          2|           36|         43|   N|                Y|MINI SIZE IS QUIT...|Have been using t...| 2015-08-31|\n",
            "|         US|   53020738|R3A1VQ3SQDXEJ3|B00OLSARPK|     271494331|TEMPTATIONS SNACK...|    Pet Products|          5|           20|         20|   N|                Y|Fun for Even Less...|[[VIDEOID:4cc2a20...| 2015-08-31|\n",
            "|         US|   41141285|  R39GSNW76GYF|B00YS9HI7C|     821362342|Easyology Premium...|    Pet Products|          1|           20|         23|   N|                Y|Hole within 24 hours|I hate to be one ...| 2015-08-31|\n",
            "|         US|   51455033| RPJLR6MFDPXXE|B00Y841P12|     934091093|Merax Folding Cat...|    Pet Products|          5|           35|         36|   N|                Y|I LOVE THIS STROL...|My dog, Paris, is...| 2015-08-31|\n",
            "+-----------+-----------+--------------+----------+--------------+--------------------+----------------+-----------+-------------+-----------+----+-----------------+--------------------+--------------------+-----------+\n",
            "only showing top 10 rows\n",
            "\n"
          ]
        }
      ]
    },
    {
      "cell_type": "code",
      "metadata": {
        "colab": {
          "base_uri": "https://localhost:8080/"
        },
        "id": "Ebm4alvwMoEe",
        "outputId": "612bc453-a5f4-44aa-a8ba-81eab8cdefaf"
      },
      "source": [
        "# Filter the DataFrame or table created in Step 2, and create a new DataFrame\n",
        "# that retrieves all the rows where a review was written as part of the Vine program (paid), vine == 'Y'.\n",
        "\n",
        "vine_paid = helpful_votes.filter(helpful_votes.vine == 'Y')\n",
        "vine_paid.show(10)"
      ],
      "execution_count": 8,
      "outputs": [
        {
          "output_type": "stream",
          "name": "stdout",
          "text": [
            "+-----------+-----------+--------------+----------+--------------+--------------------+----------------+-----------+-------------+-----------+----+-----------------+--------------------+--------------------+-----------+\n",
            "|marketplace|customer_id|     review_id|product_id|product_parent|       product_title|product_category|star_rating|helpful_votes|total_votes|vine|verified_purchase|     review_headline|         review_body|review_date|\n",
            "+-----------+-----------+--------------+----------+--------------+--------------------+----------------+-----------+-------------+-----------+----+-----------------+--------------------+--------------------+-----------+\n",
            "|         US|   44759540|R3A71VR1JZD8WF|B00JGWN8O8|     378897034|Petcube Interacti...|    Pet Products|          2|           27|         30|   Y|                N|Great idea, not s...|I do not hate thi...| 2015-08-29|\n",
            "|         US|   37388532|R16OMUJIGI18JZ|B00IP05CUA|     833937853|Wellness Kittles ...|    Pet Products|          5|           72|         72|   Y|                N|My cats went craz...|My cats response ...| 2015-08-29|\n",
            "|         US|   51817707|R3TS8ZP2FHQ9XR|B00JGWN8O8|     378897034|Petcube Interacti...|    Pet Products|          5|           39|         42|   Y|                N|keeps my dogs ent...|The Petcube is a ...| 2015-08-25|\n",
            "|         US|   22429746|R2MHP919VZN7DI|B00TZMCB06|     941629379|  NUTRO Wet Cat Food|    Pet Products|          5|           29|         30|   Y|                N|If You Put it Out...|While this cat fo...| 2015-08-19|\n",
            "|         US|   36000673| RD2BCTVS59A5L|B00WO6MKXS|     435705464|Prevue Pet Produc...|    Pet Products|          2|           20|         20|   Y|                N|Good idea but not...|While this scratc...| 2015-08-14|\n",
            "|         US|   53032062|R1JUJLXQ2CMWKF|B00MU368KQ|      17103237|Havahart Wireless...|    Pet Products|          4|           25|         26|   Y|                N|compared to petsa...|DISCLAIMER: The 3...| 2015-08-11|\n",
            "|         US|   48391502|R2T7YE0IFI6N9L|B012VLBWXY|     753958294|OurPets Catty Wha...|    Pet Products|          3|           24|         25|   Y|                N|Broke within minu...|I really, really ...| 2015-08-10|\n",
            "|         US|   52702539|R25FI3J7WWOYXM|B00YWPHX9K|     561320988|Instinct Freeze D...|    Pet Products|          3|           55|         58|   Y|                N|Vague sourcing of...|This dog treat/mi...| 2015-07-04|\n",
            "|         US|   53032850|R3P3U4EOWIUD50|B00YWPHX9K|     561320988|Instinct Freeze D...|    Pet Products|          3|           27|         36|   Y|                N|Does my dog reall...|First of all, I h...| 2015-07-03|\n",
            "|         US|   20389093|R3C7MKX7MO6XUC|B00QHC041A|     315639496|AmazonBasics Seat...|    Pet Products|          5|          216|        219|   Y|                N|Makes the back se...|[[VIDEOID:a514b57...| 2015-06-29|\n",
            "+-----------+-----------+--------------+----------+--------------+--------------------+----------------+-----------+-------------+-----------+----+-----------------+--------------------+--------------------+-----------+\n",
            "only showing top 10 rows\n",
            "\n"
          ]
        }
      ]
    },
    {
      "cell_type": "code",
      "metadata": {
        "colab": {
          "base_uri": "https://localhost:8080/"
        },
        "id": "-2qRNDIiNfv_",
        "outputId": "f223ebb5-86c5-4117-9c7f-32774dd3b47d"
      },
      "source": [
        "# Repeat Step 3, but this time retrieve all the rows where the review \n",
        "# was not part of the Vine program (unpaid), vine == 'N'.\n",
        "\n",
        "vine_unpaid = helpful_votes.filter(helpful_votes.vine == 'N')\n",
        "vine_unpaid.show(10)"
      ],
      "execution_count": 9,
      "outputs": [
        {
          "output_type": "stream",
          "name": "stdout",
          "text": [
            "+-----------+-----------+--------------+----------+--------------+--------------------+----------------+-----------+-------------+-----------+----+-----------------+--------------------+--------------------+-----------+\n",
            "|marketplace|customer_id|     review_id|product_id|product_parent|       product_title|product_category|star_rating|helpful_votes|total_votes|vine|verified_purchase|     review_headline|         review_body|review_date|\n",
            "+-----------+-----------+--------------+----------+--------------+--------------------+----------------+-----------+-------------+-----------+----+-----------------+--------------------+--------------------+-----------+\n",
            "|         US|   51227803|R21KC552Y6HL8X|B00E2E1XBK|     180836080|Kennel Deck - 3 Pack|    Pet Products|          1|           27|         31|   N|                Y|The picture is of...|The product add p...| 2015-08-31|\n",
            "|         US|   52747799| RX9WC9FTIR1XR|B00DZITYGU|     598776873|Grey Shark Bed fo...|    Pet Products|          5|           25|         25|   N|                Y|Two seconds flat ...|Once I set it up,...| 2015-08-31|\n",
            "|         US|   23340430| RGDCOU1KBHMNG|B00N9SL8SS|     721942363|Pet Rat Mouse Lea...|    Pet Products|          3|           29|         31|   N|                Y|        OK for Price|Easy enough to pu...| 2015-08-31|\n",
            "|         US|   48234208| RVTYWID2TPMMY|B00EB4IV2A|     140722056|Northmate Catch I...|    Pet Products|          2|           35|         42|   N|                Y|        Intimidating|Love the concept....| 2015-08-31|\n",
            "|         US|    2321625|R2CMPZ5VESGRLY|B00OC7661E|     664108863|4 Pets Large Dog ...|    Pet Products|          4|           27|         28|   N|                Y|Xl fits my 51 pou...|A little big on h...| 2015-08-31|\n",
            "|         US|   48415890|R3VQPJZ54B55BA|B0108LVGZI|     301347908|Medicated Oatmeal...|    Pet Products|          5|           62|         64|   N|                N|My Husky Says \"Th...|[[VIDEOID:2f1bbfc...| 2015-08-31|\n",
            "|         US|   47321827|R24QM6D7FEDZ5M|B00EB4IV2A|     140722056|Northmate Catch I...|    Pet Products|          2|           36|         43|   N|                Y|MINI SIZE IS QUIT...|Have been using t...| 2015-08-31|\n",
            "|         US|   53020738|R3A1VQ3SQDXEJ3|B00OLSARPK|     271494331|TEMPTATIONS SNACK...|    Pet Products|          5|           20|         20|   N|                Y|Fun for Even Less...|[[VIDEOID:4cc2a20...| 2015-08-31|\n",
            "|         US|   41141285|  R39GSNW76GYF|B00YS9HI7C|     821362342|Easyology Premium...|    Pet Products|          1|           20|         23|   N|                Y|Hole within 24 hours|I hate to be one ...| 2015-08-31|\n",
            "|         US|   51455033| RPJLR6MFDPXXE|B00Y841P12|     934091093|Merax Folding Cat...|    Pet Products|          5|           35|         36|   N|                Y|I LOVE THIS STROL...|My dog, Paris, is...| 2015-08-31|\n",
            "+-----------+-----------+--------------+----------+--------------+--------------------+----------------+-----------+-------------+-----------+----+-----------------+--------------------+--------------------+-----------+\n",
            "only showing top 10 rows\n",
            "\n"
          ]
        }
      ]
    },
    {
      "cell_type": "code",
      "metadata": {
        "id": "Gm6frhEHOlCb",
        "colab": {
          "base_uri": "https://localhost:8080/"
        },
        "outputId": "0b033555-9529-4b61-a864-b87c4c4cc7fe"
      },
      "source": [
        "#PAID VINE\n",
        "# Total number of reviews \n",
        "total_reviews = vine_paid.count()\n",
        "total_reviews\n",
        "\n",
        "#total 5 star reviews\n",
        "five_star_reviews_paid = vine_paid.filter(\"star_rating = 5\").count()\n",
        "five_star_reviews_paid\n",
        "\n",
        "# percentage of 5 star reviews\n",
        "percentage_five_star = five_star_reviews_paid/total_reviews\n",
        "percentage_five_star"
      ],
      "execution_count": 10,
      "outputs": [
        {
          "output_type": "execute_result",
          "data": {
            "text/plain": [
              "0.38235294117647056"
            ]
          },
          "metadata": {},
          "execution_count": 10
        }
      ]
    },
    {
      "cell_type": "code",
      "metadata": {
        "colab": {
          "base_uri": "https://localhost:8080/"
        },
        "id": "atQEetdbSFMR",
        "outputId": "2abbf551-92b2-43e7-d833-e723af942b42"
      },
      "source": [
        "paid_vine_summary = spark.createDataFrame([\n",
        "                                   (total_reviews, five_star_reviews_paid, percentage_five_star),\n",
        "], [\"Total Reviews\", \"5 Star Reviews\", \"% of 5 Star Reviews\"])\n",
        "paid_vine_summary.show()"
      ],
      "execution_count": 11,
      "outputs": [
        {
          "output_type": "stream",
          "name": "stdout",
          "text": [
            "+-------------+--------------+-------------------+\n",
            "|Total Reviews|5 Star Reviews|% of 5 Star Reviews|\n",
            "+-------------+--------------+-------------------+\n",
            "|          170|            65|0.38235294117647056|\n",
            "+-------------+--------------+-------------------+\n",
            "\n"
          ]
        }
      ]
    },
    {
      "cell_type": "code",
      "metadata": {
        "id": "dWTfp84LS4xN"
      },
      "source": [
        "#UNPAID VINE\n",
        "# Total number of reviews \n",
        "total_reviews_unpaid = vine_unpaid.count()\n",
        "\n",
        "#total 5 star reviews\n",
        "five_star_reviews_unpaid = vine_unpaid.filter(\"star_rating = 5\").count()\n",
        "\n",
        "\n",
        "# percentage of 5 star reviews\n",
        "percentage_five_star_unpaid = five_star_reviews_unpaid/total_reviews_unpaid\n"
      ],
      "execution_count": 12,
      "outputs": []
    },
    {
      "cell_type": "code",
      "metadata": {
        "colab": {
          "base_uri": "https://localhost:8080/"
        },
        "id": "WKxDNHlWQiuE",
        "outputId": "be895d24-f1fc-43ce-bf5e-74ed63c2ac18"
      },
      "source": [
        "unpaid_vine_summary = spark.createDataFrame([\n",
        "                                   (total_reviews_unpaid, five_star_reviews_unpaid, percentage_five_star_unpaid),\n",
        "], [\"Total Reviews\", \"5 Star Reviews\", \"% of 5 Star Reviews\"])\n",
        "unpaid_vine_summary.show()"
      ],
      "execution_count": 13,
      "outputs": [
        {
          "output_type": "stream",
          "name": "stdout",
          "text": [
            "+-------------+--------------+-------------------+\n",
            "|Total Reviews|5 Star Reviews|% of 5 Star Reviews|\n",
            "+-------------+--------------+-------------------+\n",
            "|        37840|         20612| 0.5447145877378435|\n",
            "+-------------+--------------+-------------------+\n",
            "\n"
          ]
        }
      ]
    }
  ]
}